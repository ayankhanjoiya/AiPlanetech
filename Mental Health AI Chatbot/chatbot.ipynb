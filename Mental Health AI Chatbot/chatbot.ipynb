{
 "cells": [
  {
   "cell_type": "code",
   "execution_count": 3,
   "metadata": {},
   "outputs": [],
   "source": [
    "import json\n",
    "import random\n",
    "import pickle\n",
    "import numpy as np\n",
    "import nltk\n",
    "from nltk.tokenize import word_tokenize\n",
    "from nltk.stem import WordNetLemmatizer\n",
    "from keras.models import load_model\n",
    "import tkinter as tk\n",
    "from tkinter import scrolledtext"
   ]
  },
  {
   "cell_type": "code",
   "execution_count": 4,
   "metadata": {},
   "outputs": [
    {
     "name": "stderr",
     "output_type": "stream",
     "text": [
      "[nltk_data] Downloading package punkt to\n",
      "[nltk_data]     C:\\Users\\ayank\\AppData\\Roaming\\nltk_data...\n",
      "[nltk_data]   Package punkt is already up-to-date!\n",
      "[nltk_data] Downloading package wordnet to\n",
      "[nltk_data]     C:\\Users\\ayank\\AppData\\Roaming\\nltk_data...\n",
      "[nltk_data]   Package wordnet is already up-to-date!\n"
     ]
    },
    {
     "data": {
      "text/plain": [
       "True"
      ]
     },
     "execution_count": 4,
     "metadata": {},
     "output_type": "execute_result"
    }
   ],
   "source": [
    "# Load resources\n",
    "lemmatizer = WordNetLemmatizer()\n",
    "nltk.download(\"punkt\")\n",
    "nltk.download(\"wordnet\")"
   ]
  },
  {
   "cell_type": "code",
   "execution_count": 5,
   "metadata": {},
   "outputs": [
    {
     "name": "stderr",
     "output_type": "stream",
     "text": [
      "WARNING:absl:Compiled the loaded model, but the compiled metrics have yet to be built. `model.compile_metrics` will be empty until you train or evaluate the model.\n"
     ]
    }
   ],
   "source": [
    "# Load trained model and data\n",
    "model = load_model(\"models/emotion_model.h5\")\n",
    "intents = json.load(open(\"Data/responses.json\"))\n",
    "words = pickle.load(open(\"models/words.pkl\", \"rb\"))\n",
    "classes = pickle.load(open(\"models/classes.pkl\", \"rb\"))"
   ]
  },
  {
   "cell_type": "code",
   "execution_count": 6,
   "metadata": {},
   "outputs": [],
   "source": [
    "# Preprocessing function\n",
    "def clean_up_sentence(sentence):\n",
    "    sentence_words = word_tokenize(sentence)\n",
    "    sentence_words = [lemmatizer.lemmatize(word.lower()) for word in sentence_words]\n",
    "    return sentence_words"
   ]
  },
  {
   "cell_type": "code",
   "execution_count": 7,
   "metadata": {},
   "outputs": [],
   "source": [
    "# Convert sentence to bag of words\n",
    "def bow(sentence, words, show_details=True):\n",
    "    sentence_words = clean_up_sentence(sentence)\n",
    "    bag = [0] * len(words)\n",
    "    for s in sentence_words:\n",
    "        for i, w in enumerate(words):\n",
    "            if w == s:\n",
    "                bag[i] = 1\n",
    "                if show_details:\n",
    "                    print(f\"Found in bag: {w}\")\n",
    "    return np.array(bag)"
   ]
  },
  {
   "cell_type": "code",
   "execution_count": 8,
   "metadata": {},
   "outputs": [],
   "source": [
    "# Predict user emotion\n",
    "def predict_emotion(sentence):\n",
    "    p = bow(sentence, words, show_details=False)\n",
    "    res = model.predict(np.array([p]))[0]\n",
    "    ERROR_THRESHOLD = 0.05\n",
    "    results = [[i, r] for i, r in enumerate(res) if r > ERROR_THRESHOLD]\n",
    "    results.sort(key=lambda x: x[1], reverse=True)\n",
    "    return_list = []\n",
    "    for r in results:\n",
    "        return_list.append({\"intent\": classes[r[0]], \"probability\": str(r[1])})\n",
    "    return return_list"
   ]
  },
  {
   "cell_type": "code",
   "execution_count": 9,
   "metadata": {},
   "outputs": [],
   "source": [
    "def get_response(ints, intents_json):\n",
    "    tag = ints[0]['intent']\n",
    "    list_of_intents = intents_json['intents']\n",
    "    for i in list_of_intents:\n",
    "        if i['tag'] == tag:\n",
    "            return random.choice(i['responses'])"
   ]
  },
  {
   "cell_type": "code",
   "execution_count": 10,
   "metadata": {},
   "outputs": [],
   "source": [
    "def chatbot_response(msg):\n",
    "    ints = predict_emotion(msg, model)\n",
    "    return get_response(ints, intents)"
   ]
  },
  {
   "cell_type": "code",
   "execution_count": 11,
   "metadata": {},
   "outputs": [],
   "source": [
    "# Get chatbot response\n",
    "def chatbot_response(text):\n",
    "    emotions = predict_emotion(text)\n",
    "    intent = random.choice(emotions)  # Choose the highest-confidence emotion\n",
    "    for i in intents[\"intents\"]:\n",
    "        if i[\"tag\"] == intent:\n",
    "            return random.choice(i[\"responses\"])\n",
    "    return \"I'm here to listen. How are you feeling?\""
   ]
  },
  {
   "cell_type": "code",
   "execution_count": 12,
   "metadata": {},
   "outputs": [],
   "source": [
    "class ChatBotUI:\n",
    "    def __init__(self, root):\n",
    "        self.root = root\n",
    "        self.root.title(\"Mental Health Chatbot\")\n",
    "        self.root.geometry(\"500x600\")\n",
    "        self.root.config(bg=\"#D1C4E9\")  # Soft purple background\n",
    "\n",
    "        # Chat log with modern styling\n",
    "        self.chat_log = scrolledtext.ScrolledText(\n",
    "            root, wrap=tk.WORD, width=55, height=20, state=tk.DISABLED,\n",
    "            bg=\"white\", fg=\"black\", font=(\"Arial\", 12), padx=10, pady=10\n",
    "        )\n",
    "        self.chat_log.pack(pady=10, padx=10, fill=tk.BOTH, expand=True)\n",
    "\n",
    "        # User input box\n",
    "        self.entry_box = tk.Entry(\n",
    "            root, width=50, bg=\"white\", fg=\"black\", font=(\"Arial\", 12), bd=2, relief=tk.GROOVE\n",
    "        )\n",
    "        self.entry_box.pack(pady=10, padx=10, fill=tk.X)\n",
    "        self.entry_box.bind(\"<Return>\", self.send)\n",
    "\n",
    "        # Button frame\n",
    "        self.button_frame = tk.Frame(root, bg=\"#D1C4E9\")\n",
    "        self.button_frame.pack(pady=5)\n",
    "\n",
    "        # Send button with modern styling\n",
    "        self.send_button = tk.Button(\n",
    "            self.button_frame, text=\"Send\", command=self.send,\n",
    "            bg=\"#673AB7\", fg=\"white\", font=(\"Arial\", 12, \"bold\"), bd=2, relief=tk.RAISED\n",
    "        )\n",
    "        self.send_button.pack(side=tk.LEFT, padx=5)\n",
    "\n",
    "        # Theme toggle button\n",
    "        self.dark_mode = False\n",
    "        self.theme_button = tk.Button(\n",
    "            self.button_frame, text=\"Toggle Theme\", command=self.toggle_theme,\n",
    "            bg=\"#673AB7\", fg=\"white\", font=(\"Arial\", 10, \"bold\"), bd=2, relief=tk.RAISED\n",
    "        )\n",
    "        self.theme_button.pack(side=tk.LEFT, padx=5)\n",
    "\n",
    "    def send(self, event=None):\n",
    "        user_msg = self.entry_box.get().strip()\n",
    "        self.entry_box.delete(0, tk.END)\n",
    "\n",
    "        if user_msg:\n",
    "            self.chat_log.config(state=tk.NORMAL)\n",
    "            self.chat_log.insert(tk.END, f\"You: {user_msg}\\n\", \"user\")\n",
    "            bot_response = chatbot_response(user_msg)\n",
    "            self.chat_log.insert(tk.END, f\"Bot: {bot_response}\\n\\n\", \"bot\")\n",
    "            self.chat_log.config(state=tk.DISABLED)\n",
    "            self.chat_log.yview(tk.END)\n",
    "\n",
    "    def toggle_theme(self):\n",
    "        \"\"\"Toggles between light and dark mode.\"\"\"\n",
    "        self.dark_mode = not self.dark_mode\n",
    "        if self.dark_mode:\n",
    "            self.root.config(bg=\"#2C2F33\")\n",
    "            self.chat_log.config(bg=\"#23272A\", fg=\"white\", insertbackground=\"white\")\n",
    "            self.entry_box.config(bg=\"#99AAB5\", fg=\"black\", insertbackground=\"black\")\n",
    "            self.send_button.config(bg=\"#7289DA\", fg=\"white\")\n",
    "            self.theme_button.config(bg=\"#7289DA\", fg=\"white\")\n",
    "        else:\n",
    "            self.root.config(bg=\"#D1C4E9\")\n",
    "            self.chat_log.config(bg=\"white\", fg=\"black\", insertbackground=\"black\")\n",
    "            self.entry_box.config(bg=\"white\", fg=\"black\", insertbackground=\"black\")\n",
    "            self.send_button.config(bg=\"#673AB7\", fg=\"white\")\n",
    "            self.theme_button.config(bg=\"#673AB7\", fg=\"white\")\n"
   ]
  },
  {
   "cell_type": "code",
   "execution_count": 13,
   "metadata": {},
   "outputs": [
    {
     "name": "stdout",
     "output_type": "stream",
     "text": [
      "\u001b[1m1/1\u001b[0m \u001b[32m━━━━━━━━━━━━━━━━━━━━\u001b[0m\u001b[37m\u001b[0m \u001b[1m0s\u001b[0m 54ms/step\n",
      "\u001b[1m1/1\u001b[0m \u001b[32m━━━━━━━━━━━━━━━━━━━━\u001b[0m\u001b[37m\u001b[0m \u001b[1m0s\u001b[0m 25ms/step\n"
     ]
    }
   ],
   "source": [
    "# Run chatbot UI\n",
    "if __name__ == \"__main__\":\n",
    "    root = tk.Tk()\n",
    "    ChatBotUI(root)\n",
    "    root.mainloop()"
   ]
  }
 ],
 "metadata": {
  "kernelspec": {
   "display_name": "env",
   "language": "python",
   "name": "python3"
  },
  "language_info": {
   "codemirror_mode": {
    "name": "ipython",
    "version": 3
   },
   "file_extension": ".py",
   "mimetype": "text/x-python",
   "name": "python",
   "nbconvert_exporter": "python",
   "pygments_lexer": "ipython3",
   "version": "3.12.1"
  }
 },
 "nbformat": 4,
 "nbformat_minor": 2
}
